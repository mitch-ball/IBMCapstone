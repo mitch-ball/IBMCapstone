{
 "cells": [
  {
   "cell_type": "code",
   "execution_count": 1,
   "id": "b8313ad6-cd21-47e6-85ab-51272d1320e0",
   "metadata": {},
   "outputs": [
    {
     "name": "stdout",
     "output_type": "stream",
     "text": [
      "1.5.3\n",
      "2.9.1\n"
     ]
    }
   ],
   "source": [
    "# Import required libraries\n",
    "#!pip install pandas dash\n",
    "#!pip install pandas\n",
    "#!pip install dash\n",
    "#!pip install notebook\n",
    "\n",
    "#!pip install pandas (Had to install this first on my PC/Environment)\n",
    "#!pip install dash (Had to install this first on my PC/Environment)\n",
    "#!pip install plotly (This initially installed my Pandas LIbrary which previously didn't exist on my PC) *This requires pandas to be installed\n",
    "#PLOTLY POSSIBLE NOTE: For Jupyter Lab you need jupyterlab-plotly\n",
    "import pandas as pd\n",
    "import dash\n",
    "from dash import html #Original code of 'dash_html_components as html' was deprecated. Replaced with 'from dash import html'.\n",
    "from dash import dcc   #Original code of 'import dash_core_components as dcc'. Replaced with 'from dash import html'.\n",
    "from dash.dependencies import Input, Output\n",
    "import plotly.express as px\n",
    "\n",
    "print(pd.__version__) #get the pandas version\n",
    "print(dash.__version__) #get the plotly dash version"
   ]
  },
  {
   "cell_type": "code",
   "execution_count": 2,
   "id": "872ac29e-f3dd-4b74-a9a3-d3270396f8cb",
   "metadata": {},
   "outputs": [],
   "source": [
    "# Read the launch data into pandas dataframe\n",
    "spacex_df = pd.read_csv(\"spacex_launch_dash.csv\")\n",
    "max_payload = spacex_df['Payload Mass (kg)'].max()\n",
    "min_payload = spacex_df['Payload Mass (kg)'].min()"
   ]
  },
  {
   "cell_type": "code",
   "execution_count": 3,
   "id": "cc914e47-43af-4720-b638-0dd62550e8ba",
   "metadata": {},
   "outputs": [],
   "source": [
    "# Create a dash application\n",
    "app = dash.Dash(__name__)"
   ]
  },
  {
   "cell_type": "code",
   "execution_count": 4,
   "id": "5b84fe1b-a781-422e-a5c2-aab97258c95a",
   "metadata": {},
   "outputs": [],
   "source": [
    "# Create an app layout\n",
    "app.layout = html.Div(children=[html.H1('SpaceX Launch Records Dashboard',\n",
    "                                        style={'textAlign': 'center', 'color': '#503D36',\n",
    "                                               'font-size': 40}),\n",
    "                                # TASK 1: Add a dropdown list to enable Launch Site selection\n",
    "                                # The default select value is for ALL sites\n",
    "                                # dcc.Dropdown(id='site-dropdown',...)\n",
    "                                dcc.Dropdown(id='site-dropdown',\n",
    "                                            options=[\n",
    "                                                         {'label': 'ALL SITES', 'value': 'ALL'},\n",
    "                                                         {'label': 'CCAFS LC-40', 'value': 'CCAFS LC-40'},\n",
    "                                                         {'label': 'VAFB SLC-4E', 'value': 'VAFB SLC-4E'},\n",
    "                                                         {'label': 'KSC LC-39A', 'value': 'KSC LC-39A'},\n",
    "                                                         {'label': 'CCAFS SLC-40', 'value': 'CCAFS SLC-40'}\n",
    "                                                    ],\n",
    "                                            value='ALL',\n",
    "                                            placeholder=\"Select a Launch Site here\", \n",
    "                                            searchable=True),\n",
    "                                html.Br(),\n",
    "\n",
    "                                # TASK 2: Add a pie chart to show the total successful launches count for all sites\n",
    "                                # If a specific launch site was selected, show the Success vs. Failed counts for the site\n",
    "                                html.Div(dcc.Graph(id='success-pie-chart')),\n",
    "                                html.Br(),\n",
    "\n",
    "                                html.P(\"Payload range (Kg):\"),\n",
    "                                # TASK 3: Add a slider to select payload range\n",
    "                                dcc.RangeSlider(id='payload-slider',\n",
    "                                                min=0,max=10000,step=1000,\n",
    "                                                value=[min_payload,max_payload],\n",
    "                                                marks={0: '0', 2500:'2500',5000:'5000',\n",
    "                                                7500:'7500', 10000: '10000'}),\n",
    "\n",
    "                                # TASK 4: Add a scatter chart to show the correlation between payload and launch success\n",
    "                                html.Div(dcc.Graph(id='success-payload-scatter-chart')),\n",
    "                                ])"
   ]
  },
  {
   "cell_type": "code",
   "execution_count": 5,
   "id": "f050be1a-6f39-401b-a73b-bb4c27da5bfb",
   "metadata": {},
   "outputs": [],
   "source": [
    "# TASK 2:\n",
    "# Add a callback function for `site-dropdown` as input, `success-pie-chart` as output\n",
    "@app.callback(\n",
    "    Output(component_id='success-pie-chart', component_property='figure'),\n",
    "    Input(component_id='site-dropdown', component_property='value'))\n",
    "\n",
    "def build_graph(site_dropdown):\n",
    "    if site_dropdown == 'ALL':\n",
    "        piechart = px.pie(data_frame = spacex_df, names='Launch Site', values='class' ,title='Total Successful Launches for All Sites')\n",
    "        return piechart\n",
    "    else:\n",
    "        #specific_df = spacex_df['Launch Site']\n",
    "        specific_df=spacex_df.loc[spacex_df['Launch Site'] == site_dropdown]\n",
    "        piechart = px.pie(data_frame = specific_df, names='class',title='Total Launch for a Specific Site')\n",
    "        return piechart"
   ]
  },
  {
   "cell_type": "code",
   "execution_count": null,
   "id": "16c4af19-0266-4325-8ae6-7cb54219079f",
   "metadata": {},
   "outputs": [],
   "source": [
    "# TASK 4:\n",
    "# Add a callback function for `site-dropdown` and `payload-slider` as inputs, `success-payload-scatter-chart` as output\n",
    "@app.callback(\n",
    "    Output(component_id='success-payload-scatter-chart', component_property='figure'),\n",
    "    [Input(component_id='site-dropdown', component_property='value'),\n",
    "    Input(component_id='payload-slider', component_property='value')])\n",
    "\n",
    "def update_graph(site_dropdown, payload_slider):\n",
    "    if site_dropdown == 'ALL':\n",
    "        filtered_data = spacex_df[(spacex_df['Payload Mass (kg)']>=payload_slider[0])\n",
    "        &(spacex_df['Payload Mass (kg)']<=payload_slider[1])]\n",
    "        scatterplot = px.scatter(data_frame=filtered_data, x=\"Payload Mass (kg)\", y=\"class\", \n",
    "        color=\"Booster Version Category\",title=\"Correlation Between Payload And Success (All Sites)\")\n",
    "        return scatterplot\n",
    "    else:\n",
    "        specific_df=spacex_df.loc[spacex_df['Launch Site'] == site_dropdown]\n",
    "        filtered_data = specific_df[(specific_df['Payload Mass (kg)']>=payload_slider[0])\n",
    "        &(spacex_df['Payload Mass (kg)']<=payload_slider[1])]\n",
    "        scatterplot = px.scatter(data_frame=filtered_data, x=\"Payload Mass (kg)\", y=\"class\", \n",
    "        color=\"Booster Version Category\",title=\"Correlation Between Payload And Success (All Sites)\")\n",
    "        return scatterplot\n",
    "\n",
    "# Run the app\n",
    "if __name__ == '__main__':\n",
    "    app.run_server()\n",
    "    \n",
    "# It is running here: http://127.0.0.1:8050 (put this in my local Browser)\n",
    "\n",
    "#1. Which site has the largest successful launches? (KSC LC-39A)\n",
    "\n",
    "#2. Which site has the highest launch success rate? (KSC LC-39A)\n",
    "\n",
    "#3. Which payload range(s) has the highest launch success rate? (2500kg-5000kg)\n",
    "\n",
    "#3supp. Details.....Payload Range (0-2500). Success=(7) + Failure=(12) = 19 (Success Rate=36.8%)\n",
    "#3supp. Details.....#Payload Range (2500-5000). Success=(11) + Failure=(9) = 20  (Success Rate=55%)\n",
    "#3supp. Details.....#Payload Range (5000-7500). Success=(2) + Failure=(7) = 9 (Success Rate=22.2%)\n",
    "#3supp. Details.....#Payload Range (7500-10000). Success=(1) + Failure=(1) = 2 (Success Rate=50%)\n",
    "\n",
    "#4. Which payload range(s) has the lowest launch success rate? (5000kg-7500kg)\n",
    "\n",
    "#4supp. Details.....Payload Range (0-2500). Success=(7) + Failure=(12) = 19 (Success Rate=36.8%)\n",
    "#4supp. Details.....#Payload Range (2500-5000). Success=(11) + Failure=(9) = 20  (Success Rate=55%)\n",
    "#4supp. Details.....#Payload Range (5000-7500). Success=(2) + Failure=(7) = 9 (Success Rate=22.2%)\n",
    "#4supp. Details.....#Payload Range (7500-10000). Success=(1) + Failure=(1) = 2 (Success Rate=50%)\n",
    "\n",
    "#5. Which F9 Booster version (v1.0, v1.1, FT, B4, B5, etc.) has the highest launch success rate?\n",
    "\n",
    "#5supp. Details.....v1.0. Success=(0) + Failure=(4) = 4 (Success Rate=0%)\n",
    "#5supp. Details.....v1.1. Success=(1) + Failure=(14) = 15 (Success Rate=7.1%)\n",
    "#5supp. Details.....FT. Success=(15) + Failure=(8) = 23 (Success Rate=65.2%)\n",
    "#5supp. Details.....B4. Success=(6) + Failure=(5) = 11 (Success Rate-54.5%)\n",
    "#5supp. Details.....B5. Success=(1) + Failure=(0) = 1 (Success Rate-100%)\n",
    "\n",
    "    "
   ]
  },
  {
   "cell_type": "code",
   "execution_count": null,
   "id": "ce508483-2084-46b7-a63a-8a4f3373b674",
   "metadata": {},
   "outputs": [],
   "source": []
  }
 ],
 "metadata": {
  "kernelspec": {
   "display_name": "Python 3 (ipykernel)",
   "language": "python",
   "name": "python3"
  },
  "language_info": {
   "codemirror_mode": {
    "name": "ipython",
    "version": 3
   },
   "file_extension": ".py",
   "mimetype": "text/x-python",
   "name": "python",
   "nbconvert_exporter": "python",
   "pygments_lexer": "ipython3",
   "version": "3.11.2"
  }
 },
 "nbformat": 4,
 "nbformat_minor": 5
}
